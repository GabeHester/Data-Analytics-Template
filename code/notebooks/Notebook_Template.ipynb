{
 "cells": [
  {
   "cell_type": "markdown",
   "id": "2463ff20-cee3-468a-99ae-1e6af437b6c5",
   "metadata": {},
   "source": [
    "# Gabe Hester, (Assignment Name), MM/DD/YY"
   ]
  },
  {
   "cell_type": "code",
   "execution_count": null,
   "id": "376dce77-d32d-4e89-a3e5-cb56de77eaa3",
   "metadata": {},
   "outputs": [],
   "source": [
    "import pandas as pd\n",
    "import numpy as np"
   ]
  }
 ],
 "metadata": {
  "kernelspec": {
   "display_name": "Python 3 (ipykernel)",
   "language": "python",
   "name": "python3"
  },
  "language_info": {
   "codemirror_mode": {
    "name": "ipython",
    "version": 3
   },
   "file_extension": ".py",
   "mimetype": "text/x-python",
   "name": "python",
   "nbconvert_exporter": "python",
   "pygments_lexer": "ipython3",
   "version": "3.12.3"
  }
 },
 "nbformat": 4,
 "nbformat_minor": 5
}
